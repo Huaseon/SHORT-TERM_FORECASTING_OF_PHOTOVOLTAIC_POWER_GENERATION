{
 "cells": [
  {
   "cell_type": "code",
   "execution_count": 3,
   "id": "aa6481af",
   "metadata": {},
   "outputs": [
    {
     "data": {
      "text/plain": [
       "'\\nData sources: <https://data.open-power-system-data.org/index.php?package=time_series&version=2020-10-06&action=customDownload&resource=1&filter%5B_contentfilter_cet_cest_timestamp%5D%5Bfrom%5D=2015-01-01&filter%5B_contentfilter_cet_cest_timestamp%5D%5Bto%5D=2020-10-01&filter%5BRegion%5D%5B%5D=AT&filter%5BVariable%5D%5B%5D=solar_capacity&filter%5BVariable%5D%5B%5D=solar_generation_actual&filter%5BVariable%5D%5B%5D=solar_profile&downloadCSV=%E4%B8%8B%E8%BD%BDCSV>\\n\\nStart of timeperiod in Central European (Summer-) Time: From 2015-01-01, To 2020-10-01\\nRegion: Austria (AT)\\nVariables: solar_capacity, solar_generation_actual, solar_profile\\nObjective: Develop regression models for short-term photovoltaic (PV) power forecasting using historical generation data.\\n'"
      ]
     },
     "execution_count": 3,
     "metadata": {},
     "output_type": "execute_result"
    }
   ],
   "source": [
    "\"\"\"\n",
    "Data sources: <https://data.open-power-system-data.org/index.php?package=time_series&version=2020-10-06&action=customDownload&resource=1&filter%5B_contentfilter_cet_cest_timestamp%5D%5Bfrom%5D=2015-01-01&filter%5B_contentfilter_cet_cest_timestamp%5D%5Bto%5D=2020-10-01&filter%5BRegion%5D%5B%5D=AT&filter%5BVariable%5D%5B%5D=solar_capacity&filter%5BVariable%5D%5B%5D=solar_generation_actual&filter%5BVariable%5D%5B%5D=solar_profile&downloadCSV=%E4%B8%8B%E8%BD%BDCSV>\n",
    "\n",
    "Start of timeperiod in Central European (Summer-) Time: From 2015-01-01, To 2020-10-01\n",
    "Region: Austria (AT)\n",
    "Variables: solar_capacity, solar_generation_actual, solar_profile\n",
    "Objective: Develop regression models for short-term photovoltaic (PV) power forecasting using historical generation data.\n",
    "\"\"\""
   ]
  },
  {
   "cell_type": "code",
   "execution_count": 4,
   "id": "a06c3ee2",
   "metadata": {},
   "outputs": [],
   "source": [
    "import pandas as pd\n",
    "import numpy as np\n",
    "import matplotlib.pyplot as plt\n",
    "from sklearn.model_selection import train_test_split\n",
    "from sklearn.linear_model import LinearRegression, Ridge\n",
    "from sklearn.ensemble import RandomForestRegressor\n",
    "from sklearn.metrics import mean_absolute_error, root_mean_squared_error, r2_score\n",
    "from datetime import datetime, timedelta"
   ]
  },
  {
   "cell_type": "code",
   "execution_count": 5,
   "id": "44b20224",
   "metadata": {},
   "outputs": [
    {
     "data": {
      "text/html": [
       "<div>\n",
       "<style scoped>\n",
       "    .dataframe tbody tr th:only-of-type {\n",
       "        vertical-align: middle;\n",
       "    }\n",
       "\n",
       "    .dataframe tbody tr th {\n",
       "        vertical-align: top;\n",
       "    }\n",
       "\n",
       "    .dataframe thead th {\n",
       "        text-align: right;\n",
       "    }\n",
       "</style>\n",
       "<table border=\"1\" class=\"dataframe\">\n",
       "  <thead>\n",
       "    <tr style=\"text-align: right;\">\n",
       "      <th></th>\n",
       "      <th>AT_solar_generation_actual</th>\n",
       "    </tr>\n",
       "    <tr>\n",
       "      <th>utc_timestamp</th>\n",
       "      <th></th>\n",
       "    </tr>\n",
       "  </thead>\n",
       "  <tbody>\n",
       "    <tr>\n",
       "      <th>2014-12-31 23:00:00+00:00</th>\n",
       "      <td>NaN</td>\n",
       "    </tr>\n",
       "    <tr>\n",
       "      <th>2014-12-31 23:15:00+00:00</th>\n",
       "      <td>NaN</td>\n",
       "    </tr>\n",
       "    <tr>\n",
       "      <th>2014-12-31 23:30:00+00:00</th>\n",
       "      <td>NaN</td>\n",
       "    </tr>\n",
       "    <tr>\n",
       "      <th>2014-12-31 23:45:00+00:00</th>\n",
       "      <td>NaN</td>\n",
       "    </tr>\n",
       "    <tr>\n",
       "      <th>2015-01-01 00:00:00+00:00</th>\n",
       "      <td>NaN</td>\n",
       "    </tr>\n",
       "  </tbody>\n",
       "</table>\n",
       "</div>"
      ],
      "text/plain": [
       "                           AT_solar_generation_actual\n",
       "utc_timestamp                                        \n",
       "2014-12-31 23:00:00+00:00                         NaN\n",
       "2014-12-31 23:15:00+00:00                         NaN\n",
       "2014-12-31 23:30:00+00:00                         NaN\n",
       "2014-12-31 23:45:00+00:00                         NaN\n",
       "2015-01-01 00:00:00+00:00                         NaN"
      ]
     },
     "execution_count": 5,
     "metadata": {},
     "output_type": "execute_result"
    }
   ],
   "source": [
    "# --- 1. Data loading ---\n",
    "# Read CSV with proper datetime parsing and index\n",
    "use_cols = [\"utc_timestamp\", \"AT_solar_generation_actual\"]\n",
    "df = pd.read_csv(\n",
    "    \"data/time_series_15min_singleindex_filtered.csv\",\n",
    "    usecols=use_cols,\n",
    "    parse_dates=[\"utc_timestamp\"],\n",
    "    index_col=\"utc_timestamp\",\n",
    "    dtype={\"AT_solar_generation_actual\": \"float32\"},\n",
    ")\n",
    "\n",
    "df.head()"
   ]
  },
  {
   "cell_type": "code",
   "execution_count": 6,
   "id": "fe12d554",
   "metadata": {},
   "outputs": [
    {
     "data": {
      "text/html": [
       "<div>\n",
       "<style scoped>\n",
       "    .dataframe tbody tr th:only-of-type {\n",
       "        vertical-align: middle;\n",
       "    }\n",
       "\n",
       "    .dataframe tbody tr th {\n",
       "        vertical-align: top;\n",
       "    }\n",
       "\n",
       "    .dataframe thead th {\n",
       "        text-align: right;\n",
       "    }\n",
       "</style>\n",
       "<table border=\"1\" class=\"dataframe\">\n",
       "  <thead>\n",
       "    <tr style=\"text-align: right;\">\n",
       "      <th></th>\n",
       "      <th>AT_solar_generation_actual</th>\n",
       "    </tr>\n",
       "    <tr>\n",
       "      <th>utc_timestamp</th>\n",
       "      <th></th>\n",
       "    </tr>\n",
       "  </thead>\n",
       "  <tbody>\n",
       "    <tr>\n",
       "      <th>2014-12-31 23:00:00+00:00</th>\n",
       "      <td>0.0</td>\n",
       "    </tr>\n",
       "    <tr>\n",
       "      <th>2014-12-31 23:15:00+00:00</th>\n",
       "      <td>0.0</td>\n",
       "    </tr>\n",
       "    <tr>\n",
       "      <th>2014-12-31 23:30:00+00:00</th>\n",
       "      <td>0.0</td>\n",
       "    </tr>\n",
       "    <tr>\n",
       "      <th>2014-12-31 23:45:00+00:00</th>\n",
       "      <td>0.0</td>\n",
       "    </tr>\n",
       "    <tr>\n",
       "      <th>2015-01-01 00:00:00+00:00</th>\n",
       "      <td>0.0</td>\n",
       "    </tr>\n",
       "  </tbody>\n",
       "</table>\n",
       "</div>"
      ],
      "text/plain": [
       "                           AT_solar_generation_actual\n",
       "utc_timestamp                                        \n",
       "2014-12-31 23:00:00+00:00                         0.0\n",
       "2014-12-31 23:15:00+00:00                         0.0\n",
       "2014-12-31 23:30:00+00:00                         0.0\n",
       "2014-12-31 23:45:00+00:00                         0.0\n",
       "2015-01-01 00:00:00+00:00                         0.0"
      ]
     },
     "execution_count": 6,
     "metadata": {},
     "output_type": "execute_result"
    }
   ],
   "source": [
    "# --- 2. Cleaning & NaN policy ---\n",
    "# Policy from user: night-time NaNs standardized to 0\n",
    "# Simplest initial rule: any NaN becomes 0 (can refine later with solar-angle)\n",
    "series = df[\"AT_solar_generation_actual\"].copy()\n",
    "series = series.fillna(0.0).astype(\"float32\")\n",
    "\n",
    "# Optional: clip small negatives due to noise\n",
    "series = series.clip(lower=0)\n",
    "\n",
    "# Replace in df_cleared for downstream use\n",
    "df_cleared = pd.DataFrame({\"AT_solar_generation_actual\": series})\n",
    "df_cleared.head()"
   ]
  },
  {
   "cell_type": "code",
   "execution_count": 7,
   "id": "bf1098d5",
   "metadata": {},
   "outputs": [
    {
     "name": "stdout",
     "output_type": "stream",
     "text": [
      "<class 'pandas.core.frame.DataFrame'>\n",
      "DatetimeIndex: 201604 entries, 2014-12-31 23:00:00+00:00 to 2020-09-30 23:45:00+00:00\n",
      "Data columns (total 1 columns):\n",
      " #   Column                      Non-Null Count   Dtype  \n",
      "---  ------                      --------------   -----  \n",
      " 0   AT_solar_generation_actual  201604 non-null  float32\n",
      "dtypes: float32(1)\n",
      "memory usage: 2.3 MB\n",
      "None\n",
      "\n",
      "Date range: 2014-12-31 23:00:00+00:00 -> 2020-09-30 23:45:00+00:00\n",
      "Rows: 201604\n",
      "Non-zero share: 0.587\n"
     ]
    }
   ],
   "source": [
    "# Inspect cleaned data\n",
    "print(df_cleared.info())\n",
    "print(\"\\nDate range:\", df_cleared.index.min(), \"->\", df_cleared.index.max())\n",
    "print(\"Rows:\", len(df_cleared))\n",
    "print(\"Non-zero share:\", (df_cleared[\"AT_solar_generation_actual\"] > 0).mean().round(3))"
   ]
  },
  {
   "cell_type": "code",
   "execution_count": 8,
   "id": "ef117a9c",
   "metadata": {},
   "outputs": [
    {
     "data": {
      "text/plain": [
       "(((141122, 11), (141122,)), ((40321, 11), (40321,)), ((20065, 11), (20065,)))"
      ]
     },
     "execution_count": 8,
     "metadata": {},
     "output_type": "execute_result"
    }
   ],
   "source": [
    "# --- 3. Time-based Train/Validation/Test (7/2/1) ---\n",
    "# Use chronological split by fraction of index to avoid leakage\n",
    "n = len(df_cleared)\n",
    "train_end = int(n * 0.7)\n",
    "val_end = int(n * 0.9)\n",
    "\n",
    "s = df_cleared[\"AT_solar_generation_actual\"].copy()\n",
    "\n",
    "# --- 4. Feature engineering: simple lags and rolling means ---\n",
    "# 15min step; 1h=4, 2h=8, 24h=96\n",
    "lags = [1, 4, 8, 96]\n",
    "X = pd.DataFrame(index=s.index)\n",
    "for L in lags:\n",
    "    X[f\"lag_{L}\"] = s.shift(L)\n",
    "X[\"roll_mean_4\"] = s.shift(1).rolling(4).mean()\n",
    "X[\"roll_mean_8\"] = s.shift(1).rolling(8).mean()\n",
    "X[\"roll_mean_96\"] = s.shift(1).rolling(96).mean()\n",
    "\n",
    "# Cyclic time features\n",
    "idx = X.index\n",
    "X[\"hour_sin\"] = np.sin(2 * np.pi * idx.hour / 24)\n",
    "X[\"hour_cos\"] = np.cos(2 * np.pi * idx.hour / 24)\n",
    "X[\"doy_sin\"] = np.sin(2 * np.pi * idx.dayofyear / 365.25)\n",
    "X[\"doy_cos\"] = np.cos(2 * np.pi * idx.dayofyear / 365.25)\n",
    "\n",
    "# Target\n",
    "y = s.copy()\n",
    "\n",
    "# Drop rows with NaNs due to lagging\n",
    "data = X.join(y.rename(\"y\")).dropna()\n",
    "\n",
    "# Chronological split\n",
    "train = data.iloc[:train_end]\n",
    "val = data.iloc[train_end:val_end]\n",
    "test = data.iloc[val_end:]\n",
    "\n",
    "X_train, y_train = train.drop(columns=[\"y\"]), train[\"y\"]\n",
    "X_val, y_val = val.drop(columns=[\"y\"]), val[\"y\"]\n",
    "X_test, y_test = test.drop(columns=[\"y\"]), test[\"y\"]\n",
    "\n",
    "(X_train.shape, y_train.shape), (X_val.shape, y_val.shape), (X_test.shape, y_test.shape)"
   ]
  },
  {
   "cell_type": "code",
   "execution_count": null,
   "id": "1047d8bf",
   "metadata": {},
   "outputs": [
    {
     "name": "stdout",
     "output_type": "stream",
     "text": [
      "Baseline-Persistence (val): MAE=10.136 RMSE=16.309 R2=0.994\n",
      "Baseline-Persistence (test): MAE=13.382 RMSE=20.578 R2=0.994\n",
      "Baseline-SMA4 (val): MAE=25.016 RMSE=39.567 R2=0.965\n",
      "Baseline-SMA4 (test): MAE=33.089 RMSE=50.390 R2=0.965\n",
      "Ridge (val): MAE=3.012 RMSE=5.282 R2=0.999\n",
      "Ridge (test): MAE=3.326 RMSE=5.443 R2=1.000\n"
     ]
    },
    {
     "data": {
      "image/png": "[encoded data removed]",
      "text/plain": [
       "<Figure size 1100x400 with 1 Axes>"
      ]
     },
     "metadata": {},
     "output_type": "display_data"
    }
   ],
   "source": [
    "# --- 5. Baselines and Ridge model ---\n",
    "from sklearn.linear_model import Ridge\n",
    "\n",
    "# Helper metrics\n",
    "\n",
    "def eval_metrics(y_true, y_pred, label):\n",
    "    mae = mean_absolute_error(y_true, y_pred)\n",
    "    rmse = root_mean_squared_error(y_true, y_pred)\n",
    "    r2 = r2_score(y_true, y_pred)\n",
    "    print(f\"{label}: MAE={mae:.3f} RMSE={rmse:.3f} R2={r2:.3f}\")\n",
    "    return mae, rmse, r2\n",
    "\n",
    "# Persistence (t -> t+1)\n",
    "# For lag_1, we can use X features: prediction equals lag_1\n",
    "persist_val = X_val[\"lag_1\"].values\n",
    "persist_test = X_test[\"lag_1\"].values\n",
    "eval_metrics(y_val, persist_val, \"Baseline-Persistence (val)\")\n",
    "eval_metrics(y_test, persist_test, \"Baseline-Persistence (test)\")\n",
    "\n",
    "# Simple moving average baseline (last 4 steps)\n",
    "sma4_val = X_val[[\"roll_mean_4\"]].values.ravel()\n",
    "sma4_test = X_test[[\"roll_mean_4\"]].values.ravel()\n",
    "eval_metrics(y_val, sma4_val, \"Baseline-SMA4 (val)\")\n",
    "eval_metrics(y_test, sma4_test, \"Baseline-SMA4 (test)\")\n",
    "\n",
    "# Ridge regression on engineered features\n",
    "ridge = Ridge(alpha=1.0, random_state=None)\n",
    "ridge.fit(X_train, y_train)\n",
    "val_pred = ridge.predict(X_val)\n",
    "test_pred = ridge.predict(X_test)\n",
    "\n",
    "eval_metrics(y_val, val_pred, \"Ridge (val)\")\n",
    "eval_metrics(y_test, test_pred, \"Ridge (test)\")\n",
    "\n",
    "# Quick visualization for a recent window\n",
    "plot_start = y_test.index.max() - pd.Timedelta(days=7)\n",
    "clip = (y_test.index >= plot_start)\n",
    "plt.figure(figsize=(11,4))\n",
    "plt.subplots(3, 1)\n",
    "plt.plot(y_test.index[clip], y_test.values[clip], label=\"Actual\", lw=1)\n",
    "plt.plot(y_test.index[clip], test_pred[clip], label=\"Ridge\", lw=1)\n",
    "plt.plot(y_test.index[clip], persist_test[clip], label=\"Persist\", lw=1)\n",
    "plt.title(\"PV generation: last 7 days (test)\")\n",
    "plt.legend(); plt.tight_layout(); plt.show()"
   ]
  },
  {
   "cell_type": "code",
   "execution_count": null,
   "id": "c3a424b4",
   "metadata": {},
   "outputs": [],
   "source": [
    "# --- 6. ARIMA baseline (SARIMAX with daily seasonality) ---\n",
    "from statsmodels.tsa.statespace.sarimax import SARIMAX\n",
    "\n",
    "# We'll fit SARIMAX on the univariate series with 24h seasonality (96 lags per day for 15-min cadence)\n",
    "# Use simple orders to keep it fast; you can grid search later.\n",
    "# Since we already created features, we can try exogenous approach too, but start univariate for clarity.\n",
    "\n",
    "# Align series to data index used for splits\n",
    "s_aligned = y.copy()\n",
    "\n",
    "# Season length for daily seasonality at 15-min cadence\n",
    "m = 96\n",
    "\n",
    "# Helper to fit and forecast on a segment\n",
    "\n",
    "def fit_forecast_sarimax(train_end_idx, end_idx):\n",
    "    # train on s_aligned up to train_end_idx (inclusive)\n",
    "    train_series = s_aligned.loc[:train_end_idx]\n",
    "    # Forecast over (train_end_idx, end_idx]\n",
    "    steps = (s_aligned.loc[train_end_idx:end_idx].shape[0]) - 1\n",
    "    if steps <= 0:\n",
    "        return None\n",
    "    model = SARIMAX(train_series, order=(1,0,1), seasonal_order=(1,0,1,m), enforce_stationarity=False, enforce_invertibility=False)\n",
    "    res = model.fit(disp=False)\n",
    "    fc = res.forecast(steps=steps)\n",
    "    # fc index aligns after train_end_idx\n",
    "    return fc\n",
    "\n",
    "# Forecast validation window\n",
    "val_start = y_val.index.min()\n",
    "val_end = y_val.index.max()\n",
    "train_last_before_val = y_train.index.max()\n",
    "fc_val = fit_forecast_sarimax(train_last_before_val, val_end)\n",
    "\n",
    "# Align to y_val\n",
    "if fc_val is not None:\n",
    "    fc_val = fc_val.reindex(y_val.index).ffill()  # fill if one-step offset\n",
    "    eval_metrics(y_val, fc_val.values, \"SARIMAX (val)\")\n",
    "\n",
    "# Forecast test window using train+val\n",
    "test_start = y_test.index.min()\n",
    "test_end = y_test.index.max()\n",
    "train_last_before_test = y_val.index.max()\n",
    "fc_test = fit_forecast_sarimax(train_last_before_test, test_end)\n",
    "\n",
    "if fc_test is not None:\n",
    "    fc_test = fc_test.reindex(y_test.index).ffill()\n",
    "    eval_metrics(y_test, fc_test.values, \"SARIMAX (test)\")\n",
    "\n",
    "# Plot for the last 7 days of test\n",
    "plot_start = y_test.index.max() - pd.Timedelta(days=7)\n",
    "clip = (y_test.index >= plot_start)\n",
    "plt.figure(figsize=(11,4))\n",
    "plt.plot(y_test.index[clip], y_test.values[clip], label=\"Actual\", lw=1)\n",
    "plt.plot(y_test.index[clip], fc_test.values[clip], label=\"SARIMAX\", lw=1)\n",
    "plt.title(\"PV generation: SARIMAX baseline (last 7 days, test)\")\n",
    "plt.legend(); plt.tight_layout(); plt.show()"
   ]
  }
 ],
 "metadata": {
  "kernelspec": {
   "display_name": "Python 3",
   "language": "python",
   "name": "python3"
  },
  "language_info": {
   "codemirror_mode": {
    "name": "ipython",
    "version": 3
   },
   "file_extension": ".py",
   "mimetype": "text/x-python",
   "name": "python",
   "nbconvert_exporter": "python",
   "pygments_lexer": "ipython3",
   "version": "3.11.11"
  }
 },
 "nbformat": 4,
 "nbformat_minor": 5
}
